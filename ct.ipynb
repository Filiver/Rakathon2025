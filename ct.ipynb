{
 "cells": [
  {
   "cell_type": "code",
   "execution_count": 3,
   "id": "66b0137e",
   "metadata": {},
   "outputs": [],
   "source": [
    "import pydicom\n",
    "import numpy as np\n",
    "import matplotlib.pyplot as plt\n",
    "\n",
    "# Path to your DICOM file\n",
    "dcm_file_path = \"radioprotect/data/SAMPLE_001/RT.1.2.246.352.221.476609808337909324018268205780166052003.dcm\"\n",
    "\n",
    "# Load the DICOM file\n",
    "try:\n",
    "    dcm = pydicom.dcmread(dcm_file_path)\n",
    "except Exception as e:\n",
    "    print(f\"Error loading DICOM file: {e}\")\n",
    "    exit()"
   ]
  },
  {
   "cell_type": "code",
   "execution_count": 5,
   "id": "45cb6f75",
   "metadata": {},
   "outputs": [
    {
     "name": "stdout",
     "output_type": "stream",
     "text": [
      "No pixel data found in the DICOM file.\n"
     ]
    },
    {
     "ename": "NameError",
     "evalue": "name 'image' is not defined",
     "output_type": "error",
     "traceback": [
      "\u001b[31m---------------------------------------------------------------------------\u001b[39m",
      "\u001b[31mNameError\u001b[39m                                 Traceback (most recent call last)",
      "\u001b[36mCell\u001b[39m\u001b[36m \u001b[39m\u001b[32mIn[5]\u001b[39m\u001b[32m, line 10\u001b[39m\n\u001b[32m      7\u001b[39m     exit()\n\u001b[32m      9\u001b[39m \u001b[38;5;66;03m# Optional: Display the CT image\u001b[39;00m\n\u001b[32m---> \u001b[39m\u001b[32m10\u001b[39m plt.imshow(\u001b[43mimage\u001b[49m, cmap=\u001b[33m\"\u001b[39m\u001b[33mgray\u001b[39m\u001b[33m\"\u001b[39m)\n\u001b[32m     11\u001b[39m plt.title(\u001b[33m\"\u001b[39m\u001b[33mCT Scan\u001b[39m\u001b[33m\"\u001b[39m)\n\u001b[32m     12\u001b[39m plt.axis(\u001b[33m\"\u001b[39m\u001b[33moff\u001b[39m\u001b[33m\"\u001b[39m)  \u001b[38;5;66;03m# Hide axes\u001b[39;00m\n",
      "\u001b[31mNameError\u001b[39m: name 'image' is not defined"
     ]
    },
    {
     "ename": "",
     "evalue": "",
     "output_type": "error",
     "traceback": [
      "\u001b[1;31mThe Kernel crashed while executing code in the current cell or a previous cell. \n",
      "\u001b[1;31mPlease review the code in the cell(s) to identify a possible cause of the failure. \n",
      "\u001b[1;31mClick <a href='https://aka.ms/vscodeJupyterKernelCrash'>here</a> for more info. \n",
      "\u001b[1;31mView Jupyter <a href='command:jupyter.viewOutput'>log</a> for further details."
     ]
    }
   ],
   "source": [
    "# Extract pixel data as a NumPy array\n",
    "if hasattr(dcm, \"pixel_array\"):\n",
    "    image = dcm.pixel_array\n",
    "    print(f\"Image shape: {image.shape}\")\n",
    "else:\n",
    "    print(\"No pixel data found in the DICOM file.\")\n",
    "    exit()\n",
    "\n",
    "# Optional: Display the CT image\n",
    "plt.imshow(image, cmap=\"gray\")\n",
    "plt.title(\"CT Scan\")\n",
    "plt.axis(\"off\")  # Hide axes\n",
    "plt.show()\n",
    "\n",
    "# Optional: Access metadata (e.g., Patient ID, Slice Thickness)\n",
    "print(f\"Patient ID: {dcm.get('PatientID', 'N/A')}\")\n",
    "print(f\"Slice Thickness: {dcm.get('SliceThickness', 'N/A')} mm\")\n"
   ]
  },
  {
   "cell_type": "code",
   "execution_count": 6,
   "id": "8328d603",
   "metadata": {},
   "outputs": [
    {
     "data": {
      "text/plain": [
       "'RTRECORD'"
      ]
     },
     "execution_count": 6,
     "metadata": {},
     "output_type": "execute_result"
    }
   ],
   "source": [
    "dcm.keys\n",
    "dcm.Modality"
   ]
  },
  {
   "cell_type": "code",
   "execution_count": 6,
   "id": "7fe52dfe",
   "metadata": {},
   "outputs": [],
   "source": [
    "from pathlib import Path\n",
    "\n",
    "p = Path('radioprotect/data/SAMPLE_002')\n",
    "\n",
    "contents = list(p.iterdir())"
   ]
  },
  {
   "cell_type": "code",
   "execution_count": 7,
   "id": "99a4c999",
   "metadata": {},
   "outputs": [],
   "source": [
    "for c in contents:\n",
    "    if \"dcm\" not in c.name:\n",
    "        print(c.name)"
   ]
  },
  {
   "cell_type": "code",
   "execution_count": null,
   "id": "e7c294e3",
   "metadata": {},
   "outputs": [],
   "source": []
  }
 ],
 "metadata": {
  "kernelspec": {
   "display_name": "venv",
   "language": "python",
   "name": "python3"
  },
  "language_info": {
   "codemirror_mode": {
    "name": "ipython",
    "version": 3
   },
   "file_extension": ".py",
   "mimetype": "text/x-python",
   "name": "python",
   "nbconvert_exporter": "python",
   "pygments_lexer": "ipython3",
   "version": "3.12.2"
  }
 },
 "nbformat": 4,
 "nbformat_minor": 5
}
