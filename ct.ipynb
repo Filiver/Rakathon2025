{
 "cells": [
  {
   "cell_type": "code",
   "execution_count": 1,
   "id": "66b0137e",
   "metadata": {},
   "outputs": [],
   "source": [
    "import pydicom\n",
    "import numpy as np\n",
    "import matplotlib.pyplot as plt\n",
    "\n",
    "# Path to your DICOM file\n",
    "dcm_file_path = \"radioprotect/data/SAMPLE_001/DR.1.2.246.352.221.485912002656867480216350827647519239102.dcm\"\n",
    "\n",
    "# Load the DICOM file\n",
    "try:\n",
    "    dcm = pydicom.dcmread(dcm_file_path)\n",
    "except Exception as e:\n",
    "    print(f\"Error loading DICOM file: {e}\")\n",
    "    exit()"
   ]
  },
  {
   "cell_type": "code",
   "execution_count": 5,
   "id": "45cb6f75",
   "metadata": {},
   "outputs": [
    {
     "name": "stdout",
     "output_type": "stream",
     "text": [
      "No pixel data found in the DICOM file.\n"
     ]
    },
    {
     "ename": "NameError",
     "evalue": "name 'image' is not defined",
     "output_type": "error",
     "traceback": [
      "\u001b[31m---------------------------------------------------------------------------\u001b[39m",
      "\u001b[31mNameError\u001b[39m                                 Traceback (most recent call last)",
      "\u001b[36mCell\u001b[39m\u001b[36m \u001b[39m\u001b[32mIn[5]\u001b[39m\u001b[32m, line 10\u001b[39m\n\u001b[32m      7\u001b[39m     exit()\n\u001b[32m      9\u001b[39m \u001b[38;5;66;03m# Optional: Display the CT image\u001b[39;00m\n\u001b[32m---> \u001b[39m\u001b[32m10\u001b[39m plt.imshow(\u001b[43mimage\u001b[49m, cmap=\u001b[33m\"\u001b[39m\u001b[33mgray\u001b[39m\u001b[33m\"\u001b[39m)\n\u001b[32m     11\u001b[39m plt.title(\u001b[33m\"\u001b[39m\u001b[33mCT Scan\u001b[39m\u001b[33m\"\u001b[39m)\n\u001b[32m     12\u001b[39m plt.axis(\u001b[33m\"\u001b[39m\u001b[33moff\u001b[39m\u001b[33m\"\u001b[39m)  \u001b[38;5;66;03m# Hide axes\u001b[39;00m\n",
      "\u001b[31mNameError\u001b[39m: name 'image' is not defined"
     ]
    },
    {
     "ename": "",
     "evalue": "",
     "output_type": "error",
     "traceback": [
      "\u001b[1;31mThe Kernel crashed while executing code in the current cell or a previous cell. \n",
      "\u001b[1;31mPlease review the code in the cell(s) to identify a possible cause of the failure. \n",
      "\u001b[1;31mClick <a href='https://aka.ms/vscodeJupyterKernelCrash'>here</a> for more info. \n",
      "\u001b[1;31mView Jupyter <a href='command:jupyter.viewOutput'>log</a> for further details."
     ]
    }
   ],
   "source": [
    "# Extract pixel data as a NumPy array\n",
    "if hasattr(dcm, \"pixel_array\"):\n",
    "    image = dcm.pixel_array\n",
    "    print(f\"Image shape: {image.shape}\")\n",
    "else:\n",
    "    print(\"No pixel data found in the DICOM file.\")\n",
    "    exit()\n",
    "\n",
    "# Optional: Display the CT image\n",
    "plt.imshow(image, cmap=\"gray\")\n",
    "plt.title(\"CT Scan\")\n",
    "plt.axis(\"off\")  # Hide axes\n",
    "plt.show()\n",
    "\n",
    "# Optional: Access metadata (e.g., Patient ID, Slice Thickness)\n",
    "print(f\"Patient ID: {dcm.get('PatientID', 'N/A')}\")\n",
    "print(f\"Slice Thickness: {dcm.get('SliceThickness', 'N/A')} mm\")\n"
   ]
  },
  {
   "cell_type": "code",
   "execution_count": 2,
   "id": "8328d603",
   "metadata": {},
   "outputs": [
    {
     "data": {
      "text/plain": [
       "<bound method Dataset.keys of Dataset.file_meta -------------------------------\n",
       "(0002,0000) File Meta Information Group Length  UL: 188\n",
       "(0002,0001) File Meta Information Version       OB: b'\\x00\\x01'\n",
       "(0002,0002) Media Storage SOP Class UID         UI: Deformable Spatial Registration Storage\n",
       "(0002,0003) Media Storage SOP Instance UID      UI: 1.2.246.352.221.485912002656867480216350827647519239102\n",
       "(0002,0010) Transfer Syntax UID                 UI: Implicit VR Little Endian\n",
       "(0002,0012) Implementation Class UID            UI: 1.2.246.352.70.2.1.160.3\n",
       "(0002,0013) Implementation Version Name         SH: 'DCIE 2.2'\n",
       "-------------------------------------------------\n",
       "(0008,0005) Specific Character Set              CS: 'ISO_IR 192'\n",
       "(0008,0012) Instance Creation Date              DA: '20250408'\n",
       "(0008,0013) Instance Creation Time              TM: '110121'\n",
       "(0008,0016) SOP Class UID                       UI: Deformable Spatial Registration Storage\n",
       "(0008,0018) SOP Instance UID                    UI: 1.2.246.352.221.485912002656867480216350827647519239102\n",
       "(0008,0020) Study Date                          DA: '20230711'\n",
       "(0008,0021) Series Date                         DA: '20230711'\n",
       "(0008,0023) Content Date                        DA: '20230711'\n",
       "(0008,0030) Study Time                          TM: '094251'\n",
       "(0008,0031) Series Time                         TM: '131959.092'\n",
       "(0008,0033) Content Time                        TM: '131959.09'\n",
       "(0008,0050) Accession Number                    SH: ''\n",
       "(0008,0060) Modality                            CS: 'REG'\n",
       "(0008,0070) Manufacturer                        LO: 'Varian Medical Systems'\n",
       "(0008,0090) Referring Physician's Name          PN: ''\n",
       "(0008,1090) Manufacturer's Model Name           LO: 'ARIA RTM'\n",
       "(0008,1115)  Referenced Series Sequence  1 item(s) ---- \n",
       "   (0008,114A)  Referenced Instance Sequence  1 item(s) ---- \n",
       "      (0008,1150) Referenced SOP Class UID            UI: Deformable Spatial Registration Storage\n",
       "      (0008,1155) Referenced SOP Instance UID         UI: 1.2.246.352.221.485912002656867480216350827647519239102\n",
       "      ---------\n",
       "   (0020,000E) Series Instance UID                 UI: 1.2.246.352.221.535405885203873606214973063412036051616\n",
       "   ---------\n",
       "(0010,0010) Patient's Name                      PN: 'SAMPLE_001'\n",
       "(0010,0020) Patient ID                          LO: 'SAMPLE_001'\n",
       "(0010,0030) Patient's Birth Date                DA: ''\n",
       "(0010,0040) Patient's Sex                       CS: ''\n",
       "(0012,0062) Patient Identity Removed            CS: 'YES'\n",
       "(0012,0063) De-identification Method            LO: 'De-identified with Varian Medical Systems DICOM Import Export'\n",
       "(0012,0064)  De-identification Method Code Sequence  2 item(s) ---- \n",
       "   (0008,0100) Code Value                          SH: '113100'\n",
       "   (0008,0102) Coding Scheme Designator            SH: 'DCM'\n",
       "   (0008,0104) Code Meaning                        LO: 'Basic Application Confidentiality Profile'\n",
       "   ---------\n",
       "   (0008,0100) Code Value                          SH: '113106'\n",
       "   (0008,0102) Coding Scheme Designator            SH: 'DCM'\n",
       "   (0008,0104) Code Meaning                        LO: 'Retain Longitudinal Temporal Information Full Dates Option'\n",
       "   ---------\n",
       "(0018,1000) Device Serial Number                LO: 'ANONYMIZED'\n",
       "(0018,1020) Software Versions                   LO: '4.2.7.0'\n",
       "(0018,5100) Patient Position                    CS: ''\n",
       "(0020,000D) Study Instance UID                  UI: 1.2.246.352.221.51874220960708934298512785694221890450\n",
       "(0020,000E) Series Instance UID                 UI: 1.2.246.352.221.535405885203873606214973063412036051616\n",
       "(0020,0010) Study ID                            SH: ''\n",
       "(0020,0011) Series Number                       IS: '0'\n",
       "(0020,0013) Instance Number                     IS: '0'\n",
       "(0020,0052) Frame of Reference UID              UI: 1.2.246.352.221.493726404446118334312085954036995958918\n",
       "(0020,1040) Position Reference Indicator        LO: ''\n",
       "(0064,0002)  Deformable Registration Sequence  1 item(s) ---- \n",
       "   (0064,0003) Source Frame of Reference UID       UI: 1.2.840.113704.1.111.6492.1685951896.4\n",
       "   (0064,0005)  Deformable Registration Grid Sequence  1 item(s) ---- \n",
       "      (0020,0032) Image Position (Patient)            DS: [-206.24121146, 36.9423819, -545]\n",
       "      (0020,0037) Image Orientation (Patient)         DS: [1, 0, 0, 0, 1, 0]\n",
       "      (0064,0007) Grid Dimensions                     UL: [156, 70, 171]\n",
       "      (0064,0008) Grid Resolution                     FD: [2.72265624, 2.72265624, 3.0]\n",
       "      (0064,0009) Vector Grid Data                    OF: Array of 22407840 elements\n",
       "      ---------\n",
       "   (0064,000F)  Pre Deformation Matrix Registration Sequence  1 item(s) ---- \n",
       "      (0070,030C) Frame of Reference Transformation M CS: 'RIGID'\n",
       "      (3006,00C6) Frame of Reference Transformation M DS: [0.99989595911878, -0.0080363887657, -0.0119786223559, -4.017790878173, 0.00801018122114, 0.99996542199919, -0.0022342342748, 2.01353325696139, 0.01199616333432, 0.00213805088725, 0.99992575764587, 12.4519339284628, 0, 0, 0, 1]\n",
       "      ---------\n",
       "   (0064,0010)  Post Deformation Matrix Registration Sequence  1 item(s) ---- \n",
       "      (0070,030C) Frame of Reference Transformation M CS: 'RIGID'\n",
       "      (3006,00C6) Frame of Reference Transformation M DS: [1, 0, 0, 0, 0, 1, 0, 0, 0, 0, 1, 0, 0, 0, 0, 1]\n",
       "      ---------\n",
       "   (0070,030D)  Registration Type Code Sequence  0 item(s) ---- \n",
       "   ---------\n",
       "(0070,0080) Content Label                       CS: 'DEFORMABLE'\n",
       "(0070,0081) Content Description                 LO: ''\n",
       "(0070,0084) Content Creator's Name              PN: ''>"
      ]
     },
     "execution_count": 2,
     "metadata": {},
     "output_type": "execute_result"
    }
   ],
   "source": [
    "dcm.keys"
   ]
  },
  {
   "cell_type": "code",
   "execution_count": 6,
   "id": "7fe52dfe",
   "metadata": {},
   "outputs": [],
   "source": [
    "from pathlib import Path\n",
    "\n",
    "p = Path('radioprotect/data/SAMPLE_002')\n",
    "\n",
    "contents = list(p.iterdir())"
   ]
  },
  {
   "cell_type": "code",
   "execution_count": 7,
   "id": "99a4c999",
   "metadata": {},
   "outputs": [],
   "source": [
    "for c in contents:\n",
    "    if \"dcm\" not in c.name:\n",
    "        print(c.name)"
   ]
  },
  {
   "cell_type": "code",
   "execution_count": null,
   "id": "e7c294e3",
   "metadata": {},
   "outputs": [],
   "source": []
  }
 ],
 "metadata": {
  "kernelspec": {
   "display_name": "venv",
   "language": "python",
   "name": "python3"
  },
  "language_info": {
   "codemirror_mode": {
    "name": "ipython",
    "version": 3
   },
   "file_extension": ".py",
   "mimetype": "text/x-python",
   "name": "python",
   "nbconvert_exporter": "python",
   "pygments_lexer": "ipython3",
   "version": "3.12.2"
  }
 },
 "nbformat": 4,
 "nbformat_minor": 5
}
