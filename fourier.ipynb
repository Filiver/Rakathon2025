{
 "cells": [
  {
   "cell_type": "code",
   "execution_count": 1,
   "id": "0072e52c",
   "metadata": {},
   "outputs": [],
   "source": [
    "reference_scans_dir = \"/Users/davidkorcak/Documents/Rakathon2025/data/radioprotect/Organized_CT_Data/SAMPLE_001/2023-06-05/frame_uid_1_2_246_352_221_559666980133719263215614360979762074268\"\n",
    "\n",
    "measurement_scans_dir = \"/Users/davidkorcak/Documents/Rakathon2025/data/radioprotect/Organized_CT_Data/SAMPLE_001/2023-06-21/frame_uid_1_2_246_352_221_523526543250385987917834924930119139461\""
   ]
  },
  {
   "cell_type": "code",
   "execution_count": 2,
   "id": "d1399f9b",
   "metadata": {},
   "outputs": [],
   "source": [
    "import SimpleITK as sitk\n",
    "import os"
   ]
  },
  {
   "cell_type": "code",
   "execution_count": 3,
   "id": "ec496c1e",
   "metadata": {},
   "outputs": [
    {
     "name": "stdout",
     "output_type": "stream",
     "text": [
      "Loading reference scans from: /Users/davidkorcak/Documents/Rakathon2025/data/radioprotect/Organized_CT_Data/SAMPLE_001/2023-06-05/frame_uid_1_2_246_352_221_559666980133719263215614360979762074268\n",
      "Reference image loaded with size: (512, 512, 196)\n",
      "Reference image spacing (x, y, z): (1.36523438, 1.36523438, 3.0)\n",
      "Reference image loaded with size: (512, 512, 196)\n",
      "Reference image spacing (x, y, z): (1.36523438, 1.36523438, 3.0)\n"
     ]
    }
   ],
   "source": [
    "# Load Reference Scans\n",
    "print(f\"Loading reference scans from: {reference_scans_dir}\")\n",
    "reader = sitk.ImageSeriesReader()\n",
    "dicom_names = reader.GetGDCMSeriesFileNames(reference_scans_dir)\n",
    "reader.SetFileNames(dicom_names)\n",
    "reference_image = reader.Execute()\n",
    "\n",
    "print(f\"Reference image loaded with size: {reference_image.GetSize()}\")\n",
    "reference_spacing = reference_image.GetSpacing()\n",
    "print(f\"Reference image spacing (x, y, z): {reference_spacing}\")"
   ]
  },
  {
   "cell_type": "code",
   "execution_count": 4,
   "id": "88a6ac26",
   "metadata": {},
   "outputs": [
    {
     "name": "stdout",
     "output_type": "stream",
     "text": [
      "\n",
      "Loading measurement scans from: /Users/davidkorcak/Documents/Rakathon2025/data/radioprotect/Organized_CT_Data/SAMPLE_001/2023-06-21/frame_uid_1_2_246_352_221_523526543250385987917834924930119139461\n",
      "Measurement image loaded with size: (512, 512, 93)\n",
      "Measurement image spacing (x, y, z): (0.51119073851527, 0.51119073851527, 1.9897245368071947)\n",
      "Measurement image loaded with size: (512, 512, 93)\n",
      "Measurement image spacing (x, y, z): (0.51119073851527, 0.51119073851527, 1.9897245368071947)\n"
     ]
    }
   ],
   "source": [
    "# Load Measurement Scans\n",
    "print(f\"\\nLoading measurement scans from: {measurement_scans_dir}\")\n",
    "reader = sitk.ImageSeriesReader()\n",
    "# Check if the directory exists and is not empty before attempting to read\n",
    "if os.path.exists(measurement_scans_dir) and len(os.listdir(measurement_scans_dir)) > 0:\n",
    "    try:\n",
    "        dicom_names = reader.GetGDCMSeriesFileNames(measurement_scans_dir)\n",
    "        if not dicom_names:\n",
    "            print(f\"Warning: No DICOM series found in {measurement_scans_dir}\")\n",
    "            measurement_image = None\n",
    "            measurement_spacing = None\n",
    "        else:\n",
    "            reader.SetFileNames(dicom_names)\n",
    "            measurement_image = reader.Execute()\n",
    "            print(f\"Measurement image loaded with size: {measurement_image.GetSize()}\")\n",
    "            measurement_spacing = measurement_image.GetSpacing()\n",
    "            print(f\"Measurement image spacing (x, y, z): {measurement_spacing}\")\n",
    "    except Exception as e:\n",
    "        print(f\"Error reading measurement scans: {e}\")\n",
    "        measurement_image = None\n",
    "        measurement_spacing = None\n",
    "else:\n",
    "    print(f\"Warning: Measurement directory does not exist or is empty: {measurement_scans_dir}\")\n",
    "    measurement_image = None\n",
    "    measurement_spacing = None"
   ]
  }
 ],
 "metadata": {
  "kernelspec": {
   "display_name": ".venv",
   "language": "python",
   "name": "python3"
  },
  "language_info": {
   "codemirror_mode": {
    "name": "ipython",
    "version": 3
   },
   "file_extension": ".py",
   "mimetype": "text/x-python",
   "name": "python",
   "nbconvert_exporter": "python",
   "pygments_lexer": "ipython3",
   "version": "3.12.10"
  }
 },
 "nbformat": 4,
 "nbformat_minor": 5
}
