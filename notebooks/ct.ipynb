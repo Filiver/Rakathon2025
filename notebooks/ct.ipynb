{
 "cells": [
  {
   "cell_type": "code",
   "outputs": [],
   "source": [
    "import pydicom\n",
    "import numpy as np\n",
    "import matplotlib.pyplot as plt\n",
    "\n",
    "# Path to your DICOM file\n",
    "dcm_file_path = \"data/radioprotect/Rakathon Data/SAMPLE_004/RS.1.2.246.352.221.469828402979830434171132323292476061.dcm\"\n",
    "\n",
    "# Load the DICOM file\n",
    "try:\n",
    "    dcm = pydicom.dcmread(dcm_file_path)\n",
    "except Exception as e:\n",
    "    print(f\"Error loading DICOM file: {e}\")\n",
    "    exit()"
   ],
   "metadata": {
    "collapsed": false
   },
   "id": "855dbc22792bd7f"
  },
  {
   "cell_type": "code",
   "outputs": [],
   "source": [
    "# Extract pixel data as a NumPy array\n",
    "if hasattr(dcm, \"pixel_array\"):\n",
    "    image = dcm.pixel_array\n",
    "    print(f\"Image shape: {image.shape}\")pydicom\n",
    "    print(\"No pixel data found in the DICOM file.\")\n",
    "    exit()\n",
    "\n",
    "# Optional: Display the CT image\n",
    "plt.imshow(image, cmap=\"gray\")\n",
    "plt.title(\"CT Scan\")\n",
    "plt.axis(\"off\")  # Hide axes\n",
    "plt.show()\n",
    "\n",
    "# Optional: Access metadata (e.g., Patient ID, Slice Thickness)\n",
    "print(f\"Patient ID: {dcm.get('PatientID', 'N/A')}\")\n",
    "print(f\"Slice Thickness: {dcm.get('SliceThickness', 'N/A')} mm\")\n"
   ],
   "metadata": {
    "collapsed": false
   },
   "id": "2fdc4e5bb92ba30e"
  },
  {
   "cell_type": "code",
   "outputs": [],
   "source": [
    "dcm.keys"
   ],
   "metadata": {
    "collapsed": false
   },
   "id": "c698797db75596b7"
  },
  {
   "cell_type": "code",
   "outputs": [],
   "source": [
    "from pathlib import Path\n",
    "\n",
    "p = Path('/Volumes/Transfer/radioprotect/Rackaton Data/SAMPLE_002')\n",
    "\n",
    "contents = list(p.iterdir())"
   ],
   "metadata": {
    "collapsed": false
   },
   "id": "361643e4fb3303fc"
  },
  {
   "cell_type": "code",
   "outputs": [],
   "source": [
    "for c in contents:\n",
    "    if \"dcm\" not in c.name:\n",
    "        print(c.name)"
   ],
   "metadata": {
    "collapsed": false
   },
   "id": "6444f8d2ad9e601d"
  },
  {
   "cell_type": "code",
   "outputs": [],
   "source": [
    "import os\n",
    "import pydicom\n",
    "import sys\n",
    "\n",
    "\n",
    "def find_rtstruct_files(folder_path):\n",
    "    \"\"\"\n",
    "    Traverses a folder and identifies DICOM files with Modality 'RTSTRUCT'.\n",
    "\n",
    "    Args:\n",
    "        folder_path (str): The path to the folder containing DICOM files.\n",
    "\n",
    "    Returns:\n",
    "        list: A list of file paths identified as RTSTRUCT files.\n",
    "    \"\"\"\n",
    "    rtstruct_files = []\n",
    "    print(f\"Searching for RT Structure Set (RTSTRUCT) files in: {folder_path}\\n\" + \"=\" * 30)\n",
    "\n",
    "    # Walk through the directory tree\n",
    "    for root, dirs, files in os.walk(folder_path):\n",
    "        for filename in files:\n",
    "            # Check if the file might be a DICOM file (basic check)\n",
    "            if filename.lower().endswith(\".dcm\"):\n",
    "                filepath = os.path.join(root, filename)\n",
    "                try:\n",
    "                    # Read the DICOM file metadata only (faster)\n",
    "                    # We don't need pixel data to check the modality\n",
    "                    ds = pydicom.dcmread(filepath, stop_before_pixels=True)\n",
    "\n",
    "                    # Check if the Modality tag exists and is 'RTSTRUCT'\n",
    "                    # Using getattr is safer than direct access in case the tag is missing\n",
    "                    if getattr(ds, \"Modality\", None) == \"RTSTRUCT\":\n",
    "                        print(f\"[*] Found RTSTRUCT file: {filepath}\")\n",
    "                        rtstruct_files.append(filepath)\n",
    "\n",
    "                except pydicom.errors.InvalidDicomError:\n",
    "                    # Silently ignore files that are not valid DICOM format\n",
    "                    # print(f\"[!] Skipping non-DICOM or invalid file: {filepath}\")\n",
    "                    pass\n",
    "                except Exception as e:\n",
    "                    # Catch other potential errors during file reading\n",
    "                    print(f\"[!] Error reading {filepath}: {e}\")\n",
    "\n",
    "    print(\"=\" * 30 + f\"\\nSearch complete. Found {len(rtstruct_files)} RTSTRUCT file(s).\")\n",
    "    return rtstruct_files\n",
    "\n",
    "\n",
    "# --- How to run the script ---\n",
    "if __name__ == \"__main__\":\n",
    "    # *** IMPORTANT: Set the path to your DICOM folder here ***\n",
    "    # Example: target_directory = \"/mnt/data/dicom_dump\"\n",
    "    # Example: target_directory = \"C:\\\\Users\\\\YourUser\\\\Desktop\\\\DICOM_Data\"\n",
    "    target_directory = \"./data/radioprotect/Rackaton Data/SAMPLE_001\"  # Default: Searches the current directory where the script is \n",
    "    if not os.path.isdir(target_directory):\n",
    "        print(f\"\\nError: The specified folder does not exist: {target_directory}\")\n",
    "    else:\n",
    "        found_files = find_rtstruct_files(target_directory)\n",
    "        # You can now use the 'found_files' list if needed\n",
    "        # For example:\n",
    "        # if found_files:\n",
    "        #     first_rtstruct = found_files[0]\n",
    "        #     print(f\"\\nProcessing the first found file: {first_rtstruct}\")\n",
    "        #     # Add code here to process the RTSTRUCT file\n"
   ],
   "metadata": {
    "collapsed": false
   },
   "id": "373f6937018625cc"
  }
 ],
 "metadata": {
  "kernelspec": {
   "display_name": "venv",
   "language": "python",
   "name": "python3"
  },
  "language_info": {
   "name": "python",
   "version": "3.12.2"
  }
 },
 "nbformat": 5,
 "nbformat_minor": 9
}
